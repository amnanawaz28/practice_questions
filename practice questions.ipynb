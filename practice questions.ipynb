{
 "cells": [
  {
   "cell_type": "code",
   "execution_count": 11,
   "id": "90b79e3d-ace9-47a4-9505-558bffa6ce60",
   "metadata": {},
   "outputs": [
    {
     "name": "stdout",
     "output_type": "stream",
     "text": [
      "Hello Amna Nawaz, the current time is 2024-11-28 19:01:08.203587.\n"
     ]
    }
   ],
   "source": [
    "# Q1:\n",
    "import datetime\n",
    "def greet_with_time(name):\n",
    "    current_time=datetime.datetime.now()\n",
    "    print(f\"Hello {name}, the current time is {current_time}.\")\n",
    "greet_with_time(\"Amna Nawaz\")"
   ]
  },
  {
   "cell_type": "code",
   "execution_count": 9,
   "id": "af5a1c38-2d64-4a08-9ca8-4d74aa6a9d83",
   "metadata": {},
   "outputs": [
    {
     "name": "stdout",
     "output_type": "stream",
     "text": [
      "58.0\n"
     ]
    }
   ],
   "source": [
    "# Q2:\n",
    "def calculate_average(num1,num2,num3):\n",
    "    average=(num1+num2+num3)/3\n",
    "    return average\n",
    "result=calculate_average(57,58,59)\n",
    "print(result)"
   ]
  },
  {
   "cell_type": "code",
   "execution_count": 7,
   "id": "aa09a7f0-5ac7-4fe3-9b83-c98109ad7d86",
   "metadata": {},
   "outputs": [
    {
     "name": "stdout",
     "output_type": "stream",
     "text": [
      "405.0\n"
     ]
    }
   ],
   "source": [
    "# Q3:\n",
    "def calculate_discount(price, percentage):\n",
    "    discount=price-(price*percentage)\n",
    "    return discount\n",
    "price=calculate_discount(450,10/100)\n",
    "print(price)"
   ]
  },
  {
   "cell_type": "code",
   "execution_count": 27,
   "id": "226053ef-b4bd-45de-a21c-9ffe6da498f9",
   "metadata": {},
   "outputs": [
    {
     "name": "stdout",
     "output_type": "stream",
     "text": [
      "Name: Amna\n",
      "Age: 20\n",
      "City: islamabad\n"
     ]
    }
   ],
   "source": [
    "# Q4:\n",
    "def print_info(name,age,city):\n",
    "    print(f\"Name: {name}\")\n",
    "    print(f\"Age: {age}\")\n",
    "    print(f\"City: {city}\")\n",
    "print_info(name=\"Amna\",age=20,city=\"islamabad\")"
   ]
  },
  {
   "cell_type": "code",
   "execution_count": 29,
   "id": "327f1ee4-903e-4f78-b77f-127413bf1be2",
   "metadata": {},
   "outputs": [
    {
     "name": "stdout",
     "output_type": "stream",
     "text": [
      "84\n"
     ]
    }
   ],
   "source": [
    "# Q5:\n",
    "def find_max(*num):\n",
    "    value=max(num)\n",
    "    return value\n",
    "maximun_value=find_max(45,84,69,56)\n",
    "print(maximun_value)"
   ]
  },
  {
   "cell_type": "code",
   "execution_count": 31,
   "id": "3a0fd59c-c68d-4f11-a969-15c8a8a3c64d",
   "metadata": {},
   "outputs": [
    {
     "name": "stdout",
     "output_type": "stream",
     "text": [
      "1307674368000\n"
     ]
    }
   ],
   "source": [
    "# Q6:\n",
    "def factorial(n):\n",
    "    if n<0:\n",
    "        print(\"Factorial not defined for negative number.\")\n",
    "    elif n==0 or n==1:\n",
    "        return 1\n",
    "    else:\n",
    "        return n*factorial(n-1)\n",
    "result=factorial(15)\n",
    "print(result)"
   ]
  },
  {
   "cell_type": "code",
   "execution_count": 33,
   "id": "da5bbec3-26fb-454f-b77b-9fe674cbe27a",
   "metadata": {},
   "outputs": [
    {
     "name": "stdout",
     "output_type": "stream",
     "text": [
      "[8, 27, 125, 343, 1331]\n"
     ]
    }
   ],
   "source": [
    "# Q7:\n",
    "def apply_function(func, numbers):\n",
    "    list=[]\n",
    "    for num in numbers:\n",
    "        data=func(num)\n",
    "        list.append(data)\n",
    "    return list\n",
    "def cube(i):\n",
    "    return i**3\n",
    "numbers=[2,3,5,7,11]\n",
    "numbers_cubes=apply_function(cube, numbers)\n",
    "print(numbers_cubes)"
   ]
  },
  {
   "cell_type": "code",
   "execution_count": 35,
   "id": "68b244a1-01a2-418a-aab2-00dda1a5c4d4",
   "metadata": {},
   "outputs": [
    {
     "name": "stdout",
     "output_type": "stream",
     "text": [
      "49\n"
     ]
    }
   ],
   "source": [
    "# Q8:\n",
    "square = lambda x: x ** 2\n",
    "result=square(7)\n",
    "print(result)"
   ]
  },
  {
   "cell_type": "code",
   "execution_count": 37,
   "id": "c541bee1-a286-45f2-9c2d-82b507d9034c",
   "metadata": {},
   "outputs": [
    {
     "name": "stdout",
     "output_type": "stream",
     "text": [
      "[1, 16, 49, 100]\n"
     ]
    }
   ],
   "source": [
    "# Q8:\n",
    "def apply_operation(func, numbers):\n",
    "    list=[]\n",
    "    for num in numbers:\n",
    "        data=func(num)\n",
    "        list.append(data)\n",
    "    return list\n",
    "def square(i):\n",
    "    return i**2\n",
    "numbers=[1,4,7,10]\n",
    "numbers_squares=apply_operation(square,numbers)\n",
    "print(numbers_squares)"
   ]
  },
  {
   "cell_type": "code",
   "execution_count": 39,
   "id": "11f900f6-754d-4d39-96dd-06d8f641f893",
   "metadata": {},
   "outputs": [
    {
     "name": "stdout",
     "output_type": "stream",
     "text": [
      "Execution_time: 0.00100 seconds\n",
      "Result: 49995000\n"
     ]
    }
   ],
   "source": [
    "# Q10:\n",
    "import time\n",
    "def measure_execution_time(func):\n",
    "    def wrapper(*args,**kwargs):\n",
    "        start_time=time.time()\n",
    "        result=func(*args,**kwargs)\n",
    "        end_time=time.time()\n",
    "        execution_time=end_time-start_time\n",
    "        print(f\"Execution_time: {execution_time:.5f} seconds\")\n",
    "        return result\n",
    "    return wrapper\n",
    "@measure_execution_time\n",
    "def my_function(n):\n",
    "    total=0\n",
    "    for i in range(n):\n",
    "        total+=i\n",
    "    return total\n",
    "result=my_function(10000)\n",
    "print(\"Result:\",result)"
   ]
  }
 ],
 "metadata": {
  "kernelspec": {
   "display_name": "Python 3 (ipykernel)",
   "language": "python",
   "name": "python3"
  },
  "language_info": {
   "codemirror_mode": {
    "name": "ipython",
    "version": 3
   },
   "file_extension": ".py",
   "mimetype": "text/x-python",
   "name": "python",
   "nbconvert_exporter": "python",
   "pygments_lexer": "ipython3",
   "version": "3.12.4"
  }
 },
 "nbformat": 4,
 "nbformat_minor": 5
}
